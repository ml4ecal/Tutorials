{
 "cells": [
  {
   "cell_type": "markdown",
   "metadata": {},
   "source": [
    "## Linear and Logistic Regression"
   ]
  },
  {
   "cell_type": "markdown",
   "metadata": {},
   "source": [
    "The model for a linear regression in straightforward:\n",
    "    $$ y = w x + b $$\n",
    "Where $w$ and $b$ are the weights and the bias respectively we wish to learn."
   ]
  },
  {
   "cell_type": "markdown",
   "metadata": {},
   "source": [
    "In order to solve a given machine learning problem, one must find a way of constructing a function whose minima encode solutions to the real-world problem at hand. These encodings are performed by the <b>loss function</b>. There are several loss functions that can be used for different problems, and each problem has its optimal loss function.\n",
    "Put another way, the loss function is the mechanism by which a project is transmuted into mathematics.\n",
    "\n",
    "The loss function $\\mathcal{L}$ is a function of the datapoint $x$ and labels $y$, then we have $\\mathcal{L(x,y)}$. Note: $x$ and $y$ are in general tensors, and $\\mathcal{L}$ maps the pairs of tensors to scalars. \n",
    "What should the functional form of the loss function be? The common assumption is to make the loss <i>additive</i>. Suppose that $(x_i,y_i)$ are the data available and that there are N total samples. Then the loss can be decomposed as:\n",
    "$$\\mathcal{L(x,y)} = \\sum_{i=1}^{N} \\mathcal{L_i(x_i,y_i)} $$\n",
    "\n",
    "This decomposition allows for many useful advantages. The first is that derivatives factor through addition, so computing the gradient of the total loss simplifies as follows:\n",
    "$$\\nabla\\mathcal{L(x,y)} = \\sum_{i=1}^{N} \\nabla\\mathcal{L_i(x_i,y_i)}$$"
   ]
  },
  {
   "cell_type": "markdown",
   "metadata": {},
   "source": [
    "For regression problem we have the <b>$L^2$ loss </b>.\n",
    "$$\\mathcal{L(x,y)} = || f(x) - y ||_2$$"
   ]
  },
  {
   "cell_type": "markdown",
   "metadata": {},
   "source": [
    "#### Gradient descent\n",
    "\n",
    "We have explained that machine learning is the act of minimising suitably defined loss functions. That is, we attempt to find arguments to the loss funciton that minimise it. \n",
    "However we recall that $(x,y)$ are fixed quantities that cannot be changed. So, what arguments of $\\mathcal{L}$ are we changing during learning?\n",
    "\n",
    "Defining learnable weights W. Suppose $f(x)$ as a differentiable function we wish to fit with our machine learning model. We will dictate that $f$ is parametrized by choice of W. That is, our function actually has two arguments $f(W,x)$. Fixing the value of W we obtain a function that depends only on datapoints $x$. These learnable weights are the quantities selected by minimisation of the loss function.\n",
    "\n",
    "But now, supposing we have encoded our learning problem with a suitable loss function, how can we find minima of this loss in practice? The key is the <b>gradient descent</b>.\n",
    "Suppose $f$ as a function that depends on some weights W. Then $\\nabla W$ denotes the direction change in W that would maximally increase $f$. It follows that taking a step in the opposite direction would get us closer to the minima of $f$.\n",
    "\n",
    "Note: it's convenient to write \n",
    "$$\\nabla W = \\frac{\\partial \\mathcal{L}}{\\partial W}$$.\n",
    "\n",
    "Then the idea of gradient descent is to find the minima of functionsby repeatedly following the negative gradient. Algorithmically, this update rule can be expressed as:\n",
    "\n",
    "$$W = W - \\alpha\\nabla W$$\n",
    "\n",
    "where $\\alpha$ represents the step-size of the updating process, it is called <i>learning rate</i>. Note that $\\nabla W$ is itself a function of W, so the actual step changes at each iteration. Each step performs an update to the weights matrix W. This iterative process is called <i>learning</i>"
   ]
  },
  {
   "cell_type": "markdown",
   "metadata": {},
   "source": [
    "## Perceptron\n",
    "\n",
    "\n",
    "Proposed in 1958 by Rosenblatt (American psicologist) it is an entity with an input layer $x$, a binary output layer $y$, and a single cell containing the learning algorithm based on the minimization of an error function.\n",
    "It falls into the class of linear discriminant models through the action of a nonlinear transformation on the input vector. Mathematically:\n",
    "\n",
    "$$\\begin{equation}y(x,w) = f\\big{(}\\sum_{j=1}^{M} w_{j}\\phi_{j}(x)\\big{)}\\end{equation}$$\n",
    "\n",
    "Where $x$ is the input vector, $w$ is the adaptive \"weights\" vector associated with $x$, $y$ is the output and $\\phi$ is the fixed (non adaptive) nonlinear funciton of the input. The non linear function. $f(\\bullet)$ is given by a step function of the form:\n",
    "\n",
    "$$\\begin{equation} f(a) = \\begin{cases} +1, \\quad a \\ge 0 \\\\ -1, \\quad a \\lt 0 \\end{cases} \\end{equation}$$\n",
    "\n",
    "For the perceptron it is more convenient to use as target values $t = +1$ for class $C_1$ and $t=-1$ for class $C_2$ which match the choice for the activation function.\n",
    "\n",
    "# <img style=\"text-align: left\" src=\"./images/perceptron.png\" width=\"40%\" />\n",
    "\n",
    "\n",
    "\n",
    "The algorithm used to determine the adaptive parameters $w$ relies on the minimization of an appropriate error function. A natural choice of error function would be the total number of misclassified patterns. However this does not lead to a simple learning algorithm. We will use the **perceptron criterion**. We are seeking for an error function such that patterns $x_n$ in class $C_1$ will have $w^{T}\\phi(x_n) \\gt 0$ whereas patterns in class $C_2$ have $w^{T}\\phi(x_n) \\lt 0$. Using the $t \\in {-1, +1}$ target coding it naturally follows that we would like that for all patterns $x_n$   :   $w^{T}\\phi(x_n)t_n \\gt 0$. Therefore the perceptron criterion associates zero with each pattern correctly classified whereas for a misclassified pattern $x_n$ it tries to minimize the error function:\n",
    "\n",
    "$$\\begin{equation}E_{P}(w) = - \\sum_{n \\in M} w^{T}\\phi(x_n)t_{n} \\end{equation}$$\n",
    "\n",
    "Where $M$ denotes the set of all misclassified patterns. The error function is a linear function of the weights in the region of misclassification and 0 in the region of a correct classification and therefore it is piecewise linear.\n",
    "This is really important for the next part. \n",
    "\n",
    "Suppose we randomly choose our initial weight vector and then compute the error function associated, how can the machine adapt the weight vector for the best possible classification of patterns $x_n$? . The technique used for the weight update is called **Stochastic gradient descent**. Given $w^{\\tau}$ the weight vector at the $\\tau$ iteration then:\n",
    "\n",
    "$$\\begin{equation} w^{\\tau + 1} = w^{\\tau} -\\eta\\nabla E_P(w) = w^{\\tau} + \\eta \\phi_{n}t_{n} \\end{equation}$$\n",
    "\n",
    "Where $\\eta$ is the learning rate parameter, it sets the precision of our model to find the minimum of the error function but maximize the convengerce time. Large $\\eta$ means big steps, less precision but few iterations. On the other hand a small $\\eta$ means good approximation of the minimum of the error function but more iterations and more computational time. Note that as the iteration goes on the set of misclassified patterns $M$ will change with the vector $w$.\n"
   ]
  },
  {
   "cell_type": "markdown",
   "metadata": {},
   "source": [
    "The perceptron is the logic unit we will use to build our models. In order to implement a perceptron or a multi-layer perceptron is important to understand the logic bearing behind. For this purpose is important to understand the computational graphs. These graphs are the representation of the implementation of the algorithm. for example: given 3 input variables, the computational graphs of the function\n",
    "$$f(x) = sign(\\sum_i w_ix_i + b$$\n",
    "is the following:\n",
    "# <img style=\"text-align: left\" src=\"./images/computational_graphs.png\" width=\"40%\" />\n",
    "\n",
    "Where: <ol>\n",
    "    <li> White nodes correspond to input and outputs; </li>\n",
    "    <li> Red nodes correspond to model parameters; </li>\n",
    "    <li> Blue nodes correspond to intermediate operations. </li>\n",
    "    </ol>\n",
    " \n",
    "Clearly, in terms of tensor operation, f can be rewritten as:\n",
    "$$f(x) = sign(\\textbf{w}^T\\textbf{x}) + b$$\n",
    "for which the correspondingcomputational graphs of f is:\n",
    "<img style=\"text-align: left\" src=\"./images/computational_graphs_vec.png\" width=\"40%\" />\n",
    "\n",
    "We have now to implement our algorithm, following these computational graphs."
   ]
  },
  {
   "cell_type": "markdown",
   "metadata": {},
   "source": [
    "### Toy dataset with numpy"
   ]
  },
  {
   "cell_type": "code",
   "execution_count": 31,
   "metadata": {},
   "outputs": [],
   "source": [
    "#Generating a dataset with numpy.\n",
    "import numpy as np\n",
    "\n",
    "N = 1000\n",
    "\n",
    "w = 5\n",
    "b = 2\n",
    "noise = 0.2\n",
    "\n",
    "x = np.random.rand(N,1) #Random values from uniform distrib in [0,1]\n",
    "ns = np.random.normal(scale = noise, size = (N,1))\n",
    "\n",
    "y = np.reshape(w*x + b + ns, (-1))\n"
   ]
  },
  {
   "cell_type": "code",
   "execution_count": 32,
   "metadata": {},
   "outputs": [
    {
     "data": {
      "image/png": "[encoded data removed]",
      "text/plain": [
       "<Figure size 720x576 with 1 Axes>"
      ]
     },
     "metadata": {
      "needs_background": "light"
     },
     "output_type": "display_data"
    }
   ],
   "source": [
    "import matplotlib.pyplot as plt\n",
    "\n",
    "fig = plt.figure(figsize = (10,8))\n",
    "plt.scatter(x,y,color = 'orange')\n",
    "plt.xlabel(\"y\")\n",
    "plt.ylabel(\"x\")\n",
    "plt.title(\"Toy Linear Regression Data, \"\n",
    "        r\"$y = {}x + 2 + Noise(0, {})$\".format(w,b,ns))\n",
    "plt.show()"
   ]
  },
  {
   "cell_type": "markdown",
   "metadata": {},
   "source": [
    "#### Placeholders"
   ]
  },
  {
   "cell_type": "markdown",
   "metadata": {},
   "source": [
    "A placeholder is a way to put information into a tensorflow computation graph. "
   ]
  },
  {
   "cell_type": "code",
   "execution_count": 33,
   "metadata": {},
   "outputs": [
    {
     "data": {
      "text/plain": [
       "<tf.Tensor 'Placeholder:0' shape=(2, 2) dtype=float32>"
      ]
     },
     "execution_count": 33,
     "metadata": {},
     "output_type": "execute_result"
    }
   ],
   "source": [
    "ph = tf.placeholder(tf.float32, shape = (2,2))\n",
    "ph"
   ]
  },
  {
   "cell_type": "markdown",
   "metadata": {},
   "source": [
    "Recall that in TF we can evaluate tensors by using sess.run(var). How do we feed in values for placeholders in our TF computations? \n",
    "We can build <i>feed dictionaries</i>. These are python dictionaries that map TF tensors to np.ndarray objects that contain the concrete values for these placeholders. This is best viewed as an inout to a TF computation graph. And the output?\n",
    "TF calls these output <i>fetches</i>. "
   ]
  },
  {
   "cell_type": "code",
   "execution_count": 34,
   "metadata": {},
   "outputs": [
    {
     "name": "stdout",
     "output_type": "stream",
     "text": [
      "[3. 5.]\n"
     ]
    }
   ],
   "source": [
    "a = tf.placeholder(tf.float32, shape = (2,))\n",
    "b = tf.placeholder(tf.float32, shape = (2,))\n",
    "c = a + b\n",
    "\n",
    "x = np.array([1.,2.])\n",
    "y = np.array([2.,3.])\n",
    "with tf.Session() as sess:\n",
    "    dic = {a : x, b: y}\n",
    "    c_eval = sess.run(c, dic) #broadcasting\n",
    "    print(c_eval)"
   ]
  },
  {
   "cell_type": "markdown",
   "metadata": {},
   "source": [
    "#### Name scopes"
   ]
  },
  {
   "cell_type": "markdown",
   "metadata": {},
   "source": [
    "In complicated TF programs, there will be many tensors, variables and placehoders defined. <code>tf.name_scope(name)</code> provides a simple scoping mechanism for managing these collections of variables. All the computational graph elements created within the scope of <code>tf.name_scope(name)</code> call will have <b>name</b> prepended to their names."
   ]
  },
  {
   "cell_type": "code",
   "execution_count": 35,
   "metadata": {},
   "outputs": [
    {
     "data": {
      "text/plain": [
       "<tf.Tensor 'placeholders/Placeholder:0' shape=(10, 1) dtype=float32>"
      ]
     },
     "execution_count": 35,
     "metadata": {},
     "output_type": "execute_result"
    }
   ],
   "source": [
    "N = 10\n",
    "\n",
    "with tf.name_scope(\"placeholders\"):\n",
    "    x = tf.placeholder(tf.float32, (N,1))\n",
    "    y = tf.placeholder(tf.float32, (N,))\n",
    "\n",
    "x"
   ]
  },
  {
   "cell_type": "markdown",
   "metadata": {},
   "source": [
    "### Optimizers"
   ]
  },
  {
   "cell_type": "markdown",
   "metadata": {},
   "source": [
    "The missing piece is that we still don't know how to perform gradient descent using TF. \n",
    "TF provides a collection of optimization algorithms in the <code>tf.train</code> module. These algorithms can be added as nodes to the TF computation graph."
   ]
  },
  {
   "cell_type": "code",
   "execution_count": 36,
   "metadata": {},
   "outputs": [
    {
     "data": {
      "text/plain": [
       "100.0"
      ]
     },
     "execution_count": 36,
     "metadata": {},
     "output_type": "execute_result"
    }
   ],
   "source": [
    "W = tf.fill((10,10), value = 1.)\n",
    "\n",
    "red_sum = tf.reduce_sum(W)\n",
    "red_sum.eval()"
   ]
  },
  {
   "cell_type": "code",
   "execution_count": 37,
   "metadata": {},
   "outputs": [],
   "source": [
    "learning_rate = .001\n",
    "W = tf.Variable((10.,))\n",
    "l = tf.reduce_sum(W)\n",
    "with tf.name_scope(\"optim\"):\n",
    "    train_op = tf.train.AdamOptimizer(learning_rate).minimize(l)"
   ]
  },
  {
   "cell_type": "markdown",
   "metadata": {},
   "source": [
    "### Taking gradients with TensorFlow\n",
    "\n",
    "We can directly implement gradient descent algorithms in TF."
   ]
  },
  {
   "cell_type": "code",
   "execution_count": 38,
   "metadata": {},
   "outputs": [
    {
     "name": "stdout",
     "output_type": "stream",
     "text": [
      "Gradient object: [<tf.Tensor 'gradients/Sum_2_grad/Tile:0' shape=(3, 3) dtype=float32>]\n",
      "Type:  <class 'list'>\n",
      "Gradient computed:\n",
      "  [[1. 1. 1.]\n",
      " [1. 1. 1.]\n",
      " [1. 1. 1.]]\n"
     ]
    }
   ],
   "source": [
    "W = tf.fill((3,3),value = 3.)\n",
    "l = tf.reduce_sum(W)\n",
    "gradW = tf.gradients(l,W)\n",
    "print(\"Gradient object:\", (gradW))\n",
    "print(\"Type: \",(type(gradW)))\n",
    "print(\"Gradient computed:\\n \",(gradW[0].eval()))"
   ]
  },
  {
   "cell_type": "markdown",
   "metadata": {},
   "source": [
    "This piece of code symbolically pulls down the gradients of loss <i>l</i> with respect to learnable parameter (<code>tf.Variable</code>)W. \n",
    "<code>tf.gradients</code> returns a list of the desired gradients. Note that the radients are themselves tensors! \n",
    "TF performs symbolic differentiation, which means that gradients themselves are parts of the computational graph."
   ]
  },
  {
   "cell_type": "markdown",
   "metadata": {},
   "source": [
    "Gettin a visual understanding of the structure of a tensorial program can be very useful. The TF team provides the TensorBoard package for this purpose. TensorBoard starts a web servers that displays various useful visualizations of a TensorFlow program. However, in order for TF programs to be inspected with TensorBoard, programmers must manually write logging statements. <code>tf.train.FileWriter()</code> speifies the logging directory for a TensorBoard program, and <code>tf.summary</code> writes sumaries of various TensorFlow variables to the specified loggign directory. We will use <code>tf.summary.scalar</code> which sumarizes a scalar quantity, to track the value of the loss function. <code>tf.summary.merge_all()</code> is a useful logging aid that merges myltiple summaries into a single summary for convenience."
   ]
  },
  {
   "cell_type": "code",
   "execution_count": 39,
   "metadata": {},
   "outputs": [],
   "source": [
    "with tf.name_scope(\"summaries\"):\n",
    "    \n",
    "    tf.summary.scalar(\"loss\",l)\n",
    "    merged = tf.summary.merge_all()\n",
    "    \n",
    "train_writer = tf.summary.FileWriter(\"./Output/lr-train\", tf.get_default_graph())"
   ]
  },
  {
   "cell_type": "markdown",
   "metadata": {},
   "source": [
    "##### Training models with TF"
   ]
  },
  {
   "cell_type": "markdown",
   "metadata": {},
   "source": [
    "Suppose now that we have specified placeholders for datapoints and labels, and have defined a loss with tensorial operations. We have added an optimizer node <code>train_op</code> to the computational graph, which we can use to perform gradient descent steps.\n",
    "To perform iteratively the gradient descent we can use a for-loop. \n"
   ]
  },
  {
   "cell_type": "code",
   "execution_count": 40,
   "metadata": {},
   "outputs": [],
   "source": [
    "#Generating a dataset with numpy.\n",
    "import numpy as np\n",
    "import tensorflow as tf\n",
    "\n",
    "N = 1000\n",
    "\n",
    "w = 5\n",
    "b = 2\n",
    "noise = 0.2\n",
    "\n",
    "x_np = np.random.rand(N,1) #Random values from uniform distrib in [0,1]\n",
    "ns = np.random.normal(scale = noise, size = (N,1))\n",
    "\n",
    "y_np = w*x_np + b + ns\n",
    "\n"
   ]
  },
  {
   "cell_type": "code",
   "execution_count": 41,
   "metadata": {},
   "outputs": [
    {
     "name": "stderr",
     "output_type": "stream",
     "text": [
      "W0828 19:37:06.452172 140242084759360 deprecation.py:323] From /home/wahid/Programs/anaconda3/lib/python3.7/site-packages/tensorflow/python/ops/losses/losses_impl.py:121: add_dispatch_support.<locals>.wrapper (from tensorflow.python.ops.array_ops) is deprecated and will be removed in a future version.\n",
      "Instructions for updating:\n",
      "Use tf.where in 2.0, which has the same broadcast rule as np.where\n"
     ]
    }
   ],
   "source": [
    "tf.reset_default_graph()\n",
    "\n",
    "with tf.name_scope(\"placeholders\"):\n",
    "    \n",
    "    x = tf.placeholder(tf.float32, (N,1)) #tensor for the x-variable\n",
    "    y = tf.placeholder(tf.float32, (N,1)) #tensor for the y-variable\n",
    "    \n",
    "with tf.name_scope(\"weights\"):\n",
    "    \n",
    "    W = tf.Variable(tf.random_uniform((1,1), minval=-0.1, maxval=0.1)) #Weights\n",
    "    b =  tf.Variable(tf.random_uniform((1,), minval=-0.1, maxval=0.1)) #bias\n",
    "    \n",
    "with tf.name_scope(\"prediction\"):\n",
    "    \n",
    "    y_pred = tf.matmul(x,W) + b #prediction\n",
    "    \n",
    "with tf.name_scope(\"loss\"):\n",
    "    \n",
    "    #l = tf.reduce_sum((y - y_pred)**2)\n",
    "    l = tf.losses.mean_squared_error(labels=y, predictions=y_pred) / 2. #loss function\n",
    "    \n",
    "with tf.name_scope(\"optim\"):\n",
    "    \n",
    "    train_op = tf.train.AdamOptimizer(.001).minimize(l) #train operation\n",
    "    \n",
    "with tf.name_scope(\"summaries\"):\n",
    "    \n",
    "    tf.summary.scalar(\"loss\",l)\n",
    "    merged = tf.summary.merge_all()\n",
    "    \n",
    "train_writer = tf.summary.FileWriter('./Output/lr-train1', tf.get_default_graph())"
   ]
  },
  {
   "cell_type": "code",
   "execution_count": 42,
   "metadata": {},
   "outputs": [],
   "source": [
    "n_steps = 10000\n",
    "\n",
    "loss = []\n",
    "\n",
    "with tf.Session() as sess1:\n",
    "    \n",
    "    sess1.run(tf.global_variables_initializer())\n",
    "    #print(tf.global_variables_initializer())\n",
    "    \n",
    "    for i in range(n_steps):\n",
    "        \n",
    "        feed_dict = {x: x_np, y: y_np}\n",
    "        \n",
    "        _,summary,loss_v = sess1.run([train_op, merged, l], feed_dict = feed_dict)\n",
    "        #print(\"step %d, loss: %f\" % (i,loss))\n",
    "         \n",
    "        loss.append(loss_v)\n",
    "        train_writer.add_summary(summary,i)\n",
    "   \n",
    "    \n",
    "    out = sess1.run([y_pred], feed_dict = {x: x_np})    \n",
    "   \n",
    "    #print(type(out))\n",
    "    \n",
    "    "
   ]
  },
  {
   "cell_type": "code",
   "execution_count": 43,
   "metadata": {},
   "outputs": [],
   "source": [
    "#!tensorboard --logdir=./Output/lr-train1"
   ]
  },
  {
   "cell_type": "markdown",
   "metadata": {},
   "source": [
    "<img style=\"text-align: left\" src=\"./images/logic_reg.png\" width=\"70%\" />"
   ]
  },
  {
   "cell_type": "code",
   "execution_count": 44,
   "metadata": {},
   "outputs": [
    {
     "data": {
      "image/png": "[encoded data removed]",
      "text/plain": [
       "<Figure size 720x720 with 1 Axes>"
      ]
     },
     "metadata": {
      "needs_background": "light"
     },
     "output_type": "display_data"
    }
   ],
   "source": [
    "import matplotlib.pyplot as plt\n",
    "\n",
    "plt.figure(figsize = (10,10))\n",
    "plt.plot(x_np, out[0], color = 'red')\n",
    "plt.scatter(x_np,y_np, color = 'orange')\n",
    "plt.show()"
   ]
  },
  {
   "cell_type": "code",
   "execution_count": 45,
   "metadata": {},
   "outputs": [
    {
     "data": {
      "text/plain": [
       "[<matplotlib.lines.Line2D at 0x7f8c54284208>]"
      ]
     },
     "execution_count": 45,
     "metadata": {},
     "output_type": "execute_result"
    },
    {
     "data": {
      "image/png": "[encoded data removed]",
      "text/plain": [
       "<Figure size 1080x720 with 1 Axes>"
      ]
     },
     "metadata": {
      "needs_background": "light"
     },
     "output_type": "display_data"
    }
   ],
   "source": [
    "fig = plt.figure(figsize = (15,10))\n",
    "plt.plot(loss)"
   ]
  }
 ],
 "metadata": {
  "kernelspec": {
   "display_name": "Python 3",
   "language": "python",
   "name": "python3"
  },
  "language_info": {
   "codemirror_mode": {
    "name": "ipython",
    "version": 3
   },
   "file_extension": ".py",
   "mimetype": "text/x-python",
   "name": "python",
   "nbconvert_exporter": "python",
   "pygments_lexer": "ipython3",
   "version": "3.7.3"
  }
 },
 "nbformat": 4,
 "nbformat_minor": 2
}
